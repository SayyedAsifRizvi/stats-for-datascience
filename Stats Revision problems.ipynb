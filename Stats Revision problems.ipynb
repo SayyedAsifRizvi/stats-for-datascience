{
 "cells": [
  {
   "cell_type": "markdown",
   "id": "62be8a09",
   "metadata": {},
   "source": [
    "1.\n",
    "Scenario: A company wants to analyze the sales performance of its products in different regions. They have collected the\n",
    "following data:\n",
    "Region A: [10, 15, 12, 8, 14]\n",
    "Region B: [18, 20, 16, 22, 25]\n",
    "Calculate the mean sales for each region.\n"
   ]
  },
  {
   "cell_type": "code",
   "execution_count": 42,
   "id": "df5c86fe",
   "metadata": {},
   "outputs": [
    {
     "name": "stdout",
     "output_type": "stream",
     "text": [
      "mean sales for region A =  11.8\n",
      "mean sales for region B =  20.2\n"
     ]
    }
   ],
   "source": [
    "import numpy as np\n",
    "Region_A = [10, 15, 12, 8, 14]\n",
    "Region_B = [18, 20, 16, 22, 25]\n",
    "print(\"mean sales for region A = \",np.mean(Region_A))\n",
    "print(\"mean sales for region B = \",np.mean(Region_B))\n"
   ]
  },
  {
   "cell_type": "markdown",
   "id": "c63902a6",
   "metadata": {},
   "source": [
    "2.\n",
    "Scenario: A survey is conducted to measure customer satisfaction on a scale of 1 to 5.\n",
    "\n",
    "The data collected is as follows:\n",
    "   [4, 5, 2, 3, 5, 4, 3, 2, 4, 5]\n",
    "   \n",
    "Calculate the mode of the survey responses.\n"
   ]
  },
  {
   "cell_type": "code",
   "execution_count": 43,
   "id": "e2d1d4c7",
   "metadata": {},
   "outputs": [
    {
     "name": "stdout",
     "output_type": "stream",
     "text": [
      "mode of given survey responses is    0\n",
      "0  4\n",
      "1  5\n"
     ]
    }
   ],
   "source": [
    "#using pandas\n",
    "import pandas as pd\n",
    "survey_list =  [4, 5, 2, 3, 5, 4, 3, 2, 4, 5]\n",
    "df = pd.DataFrame(survey_list)\n",
    "print(\"mode of given survey responses is\" , df.mode())\n",
    "\n",
    " \n"
   ]
  },
  {
   "cell_type": "code",
   "execution_count": 44,
   "id": "6da5d43f",
   "metadata": {},
   "outputs": [
    {
     "name": "stdout",
     "output_type": "stream",
     "text": [
      "mode of given survey responses is 4\n"
     ]
    }
   ],
   "source": [
    "# using statistics\n",
    "import statistics as stats\n",
    "print(\"mode of given survey responses is\" , stats.mode(survey_list))\n",
    "\n"
   ]
  },
  {
   "cell_type": "markdown",
   "id": "59aceed9",
   "metadata": {},
   "source": [
    "3.\n",
    "Scenario: A company wants to compare the salaries of two departments. The salary data for Department A and Department B are as follows:\n",
    "   Department A: [5000, 6000, 5500, 7000]\n",
    "   Department B: [4500, 5500, 5800, 6000, 5200]\n",
    "   \n",
    "Calculate the median salary for each department.\n"
   ]
  },
  {
   "cell_type": "code",
   "execution_count": 45,
   "id": "bc41d880",
   "metadata": {},
   "outputs": [
    {
     "name": "stdout",
     "output_type": "stream",
     "text": [
      "medan salaries for Department A =  5750.0\n",
      "medan salaries for Department B =  5500.0\n"
     ]
    }
   ],
   "source": [
    "Department_A =[5000, 6000, 5500, 7000]\n",
    "Department_B = [4500, 5500, 5800, 6000, 5200]\n",
    "print(\"medan salaries for Department A = \",np.median(Department_A))\n",
    "print(\"medan salaries for Department B = \",np.median(Department_B))\n",
    "\n",
    "\n",
    "\n"
   ]
  },
  {
   "cell_type": "markdown",
   "id": "307994b0",
   "metadata": {},
   "source": [
    "4. \n",
    "Scenario: A data analyst wants to determine the variability in the daily stock prices of a company. \n",
    "The data collected is as follows:\n",
    "\n",
    "   [25.5, 24.8, 26.1, 25.3, 24.9]\n",
    "   \n",
    "Calculate the range of the stock prices.\n"
   ]
  },
  {
   "cell_type": "code",
   "execution_count": 46,
   "id": "c46e4a56",
   "metadata": {},
   "outputs": [
    {
     "name": "stdout",
     "output_type": "stream",
     "text": [
      "range of stock price variation is 1.3000000000000007\n"
     ]
    }
   ],
   "source": [
    "stock_prices = [25.5, 24.8, 26.1, 25.3, 24.9]\n",
    "range_stock = max(stock_prices)-min(stock_prices)\n",
    "print(\"range of stock price variation is\",range_stock)"
   ]
  },
  {
   "cell_type": "markdown",
   "id": "e7bf7ad3",
   "metadata": {},
   "source": [
    "5.\n",
    " Scenario: A study is conducted to compare the performance of two different teaching methods. The test scores of the students in each group are as follows:\n",
    "   Group A: [85, 90, 92, 88, 91]\n",
    "   Group B: [82, 88, 90, 86, 87]\n",
    "   Perform a t-test to determine if there is a significant difference in the mean scores between the two groups.\n"
   ]
  },
  {
   "cell_type": "code",
   "execution_count": 47,
   "id": "ba0349c5",
   "metadata": {},
   "outputs": [
    {
     "name": "stdout",
     "output_type": "stream",
     "text": [
      "89.2 86.6 2.4819347291981715 2.6532998322843198\n"
     ]
    }
   ],
   "source": [
    "from scipy import stats\n",
    "d1 = [85, 90, 92, 88, 91]\n",
    "d2 = [82, 88, 90, 86, 87]\n",
    "mu1 = np.mean(d1)\n",
    "mu2 = np.mean(d2)\n",
    "std1 = np.std(d1)\n",
    "std2 = np.std(d2)\n",
    "print(mu1,mu2,std1,std2)\n"
   ]
  },
  {
   "cell_type": "code",
   "execution_count": 48,
   "id": "ad9904e6",
   "metadata": {},
   "outputs": [
    {
     "data": {
      "text/plain": [
       "Ttest_indResult(statistic=1.4312528946642735, pvalue=0.1904025808880625)"
      ]
     },
     "execution_count": 48,
     "metadata": {},
     "output_type": "execute_result"
    }
   ],
   "source": [
    "# implementing the t-test\n",
    "stats.ttest_ind(d1, d2, equal_var = False)"
   ]
  },
  {
   "cell_type": "code",
   "execution_count": 49,
   "id": "6e177d36",
   "metadata": {},
   "outputs": [
    {
     "data": {
      "text/plain": [
       "Ttest_indResult(statistic=-1.4312528946642735, pvalue=0.1904025808880625)"
      ]
     },
     "execution_count": 49,
     "metadata": {},
     "output_type": "execute_result"
    }
   ],
   "source": [
    "stats.ttest_ind(d2, d1, equal_var=False)"
   ]
  },
  {
   "cell_type": "code",
   "execution_count": 50,
   "id": "beceef0f",
   "metadata": {},
   "outputs": [
    {
     "data": {
      "text/plain": [
       "Ttest_indResult(statistic=1.4312528946642733, pvalue=0.19023970239078333)"
      ]
     },
     "execution_count": 50,
     "metadata": {},
     "output_type": "execute_result"
    }
   ],
   "source": [
    "stats.ttest_ind(d1, d2, equal_var=True)"
   ]
  },
  {
   "cell_type": "markdown",
   "id": "22571a93",
   "metadata": {},
   "source": [
    "We observe that the using “true” or “false” for the “equal-var” parameter does not change the t-test results that much. We also observe that interchanging the order of the sample arrays d1 and d2 yields a negative t-test value, but does not change the magnitude of the t-test value, as expected. Since the calculated p-value is way larger than the threshold value of 0.05, we can reject the null hypothesis that the difference between the means of sample 1 and sample 2 are significant. This shows that the two teaching methods are not very different in terms of output."
   ]
  },
  {
   "cell_type": "markdown",
   "id": "d537ce0b",
   "metadata": {},
   "source": [
    "\n",
    "6.\n",
    "Scenario: A company wants to analyze the relationship between advertising expenditure and sales. \n",
    "The data collected is as follows:\n",
    "Advertising Expenditure (in thousands): [10, 15, 12, 8, 14]\n",
    "Sales (in thousands): [25, 30, 28, 20, 26]\n",
    "\n",
    "Calculate the correlation coefficient between advertising expenditure and sales.\n"
   ]
  },
  {
   "cell_type": "code",
   "execution_count": 51,
   "id": "9b7d8d1d",
   "metadata": {},
   "outputs": [
    {
     "data": {
      "text/plain": [
       "<matplotlib.collections.PathCollection at 0x2214e0c7160>"
      ]
     },
     "execution_count": 51,
     "metadata": {},
     "output_type": "execute_result"
    },
    {
     "data": {
      "image/png": "[encoded data removed]",
      "text/plain": [
       "<Figure size 640x480 with 1 Axes>"
      ]
     },
     "metadata": {},
     "output_type": "display_data"
    }
   ],
   "source": [
    "import matplotlib.pyplot as plt\n",
    "from numpy import cov\n",
    "ads = [10, 15, 12, 8, 14]\n",
    "sales = [25, 30, 28, 20, 26]\n",
    "plt.scatter(ads,sales)"
   ]
  },
  {
   "cell_type": "code",
   "execution_count": 52,
   "id": "553e0267",
   "metadata": {},
   "outputs": [
    {
     "name": "stdout",
     "output_type": "stream",
     "text": [
      "[[ 8.2   9.45]\n",
      " [ 9.45 14.2 ]]\n"
     ]
    }
   ],
   "source": [
    "covariance = cov(ads,sales)\n",
    "print(covariance)"
   ]
  },
  {
   "cell_type": "code",
   "execution_count": 53,
   "id": "c8b86990",
   "metadata": {},
   "outputs": [
    {
     "name": "stdout",
     "output_type": "stream",
     "text": [
      "[[0.9498888  1.09468892]\n",
      " [1.09468892 1.64492939]]\n"
     ]
    }
   ],
   "source": [
    "std_ads = np.std(ads)\n",
    "std_sales = np.std(sales)\n",
    "Pearson_corr_coeff = covariance / (std_ads * std_sales)\n",
    "print(Pearson_corr_coeff)"
   ]
  },
  {
   "cell_type": "markdown",
   "id": "4e5d4512",
   "metadata": {},
   "source": [
    "7.\n",
    "Scenario: A survey is conducted to measure the heights of a group of people.\n",
    "\n",
    "The data collected is as follows:\n",
    "   [160, 170, 165, 155, 175, 180, 170]\n",
    "   \n",
    "Calculate the standard deviation of the heights.\n"
   ]
  },
  {
   "cell_type": "code",
   "execution_count": 54,
   "id": "3f7139a9",
   "metadata": {},
   "outputs": [
    {
     "name": "stdout",
     "output_type": "stream",
     "text": [
      "std deviation of the above height data is : 7.953949089757174\n"
     ]
    }
   ],
   "source": [
    "height = [160, 170, 165, 155, 175, 180, 170]\n",
    "   \n",
    "print(\"std deviation of the above height data is :\",np.std(height))"
   ]
  },
  {
   "cell_type": "markdown",
   "id": "5bf5ce24",
   "metadata": {},
   "source": [
    "8.\n",
    "Scenario: A company wants to analyze the relationship between employee tenure and job satisfaction. The data collected is as follows:\n",
    "\n",
    "Employee Tenure (in years): [2, 3, 5, 4, 6, 2, 4]\n",
    "Job Satisfaction (on a scale of 1 to 10): [7, 8, 6, 9, 5, 7, 6]\n",
    "   \n",
    "Perform a linear regression analysis to predict job satisfaction based on employee tenure.\n",
    "\n"
   ]
  },
  {
   "cell_type": "code",
   "execution_count": 55,
   "id": "f815f179",
   "metadata": {},
   "outputs": [
    {
     "name": "stdout",
     "output_type": "stream",
     "text": [
      "Predicted job satisfaction for tenure 3 years: 7.191489361702127\n",
      "Predicted job satisfaction for tenure 4 years: 6.7234042553191475\n"
     ]
    }
   ],
   "source": [
    "\n",
    "from sklearn.linear_model import LinearRegression\n",
    "\n",
    "# Employee tenure data\n",
    "employee_tenure = np.array([2, 3, 5, 4, 6, 2, 4]).reshape(-1, 1)  # Reshape to a column vector\n",
    "\n",
    "# Job satisfaction data\n",
    "job_satisfaction = np.array([7, 8, 6, 9, 5, 7, 6])\n",
    "\n",
    "# Create a linear regression model\n",
    "model = LinearRegression()\n",
    "\n",
    "# Fit the model to the data\n",
    "model.fit(employee_tenure, job_satisfaction)\n",
    "\n",
    "# Predict job satisfaction for new tenure values\n",
    "new_tenure = np.array([[3], [4]])  # Example new tenure values for prediction\n",
    "predicted_satisfaction = model.predict(new_tenure)\n",
    "\n",
    "# Print the predicted job satisfaction\n",
    "for i in range(len(new_tenure)):\n",
    "    print(f\"Predicted job satisfaction for tenure {new_tenure[i][0]} years: {predicted_satisfaction[i]}\")\n"
   ]
  },
  {
   "cell_type": "markdown",
   "id": "55119379",
   "metadata": {},
   "source": [
    "9.\n",
    "Scenario: A study is conducted to compare the effectiveness of two different medications. The recovery times of the patients in each group are as follows:\n",
    "\n",
    "   Medication A: [10, 12, 14, 11, 13]\n",
    "   Medication B: [15, 17, 16, 14, 18]\n",
    "   \n",
    "   Perform an analysis of variance (ANOVA) to determine if there is a significant difference in the mean recovery times between the two medications.\n"
   ]
  },
  {
   "cell_type": "code",
   "execution_count": 56,
   "id": "b98857a1",
   "metadata": {},
   "outputs": [
    {
     "name": "stdout",
     "output_type": "stream",
     "text": [
      "ANOVA Results:\n",
      "F-Statistic: 16.0\n",
      "p-value: 0.003949772803445326\n"
     ]
    }
   ],
   "source": [
    "\n",
    "from scipy.stats import f_oneway\n",
    "\n",
    "# Recovery times for Medication A and Medication B\n",
    "medication_a = np.array([10, 12, 14, 11, 13])\n",
    "medication_b = np.array([15, 17, 16, 14, 18])\n",
    "\n",
    "# Perform one-way ANOVA\n",
    "f_statistic, p_value = f_oneway(medication_a, medication_b)\n",
    "\n",
    "# Print the ANOVA results\n",
    "print(\"ANOVA Results:\")\n",
    "print(\"F-Statistic:\", f_statistic)\n",
    "print(\"p-value:\", p_value)\n"
   ]
  },
  {
   "cell_type": "markdown",
   "id": "bf15e540",
   "metadata": {},
   "source": [
    "\n",
    "10. \n",
    "Scenario: A company wants to analyze customer feedback ratings on a scale of 1 to 10. \n",
    "\n",
    "The data collected is as follows:\n",
    "\n",
    " [8, 9, 7, 6, 8, 10, 9, 8, 7, 8]\n",
    " \n",
    "Calculate the 75th percentile of the feedback ratings.\n"
   ]
  },
  {
   "cell_type": "code",
   "execution_count": 57,
   "id": "a1d4596d",
   "metadata": {},
   "outputs": [
    {
     "name": "stdout",
     "output_type": "stream",
     "text": [
      "75th percentile of feedback ratings: 8.75\n"
     ]
    }
   ],
   "source": [
    "\n",
    "\n",
    "# Feedback ratings data\n",
    "feedback_ratings = np.array([8, 9, 7, 6, 8, 10, 9, 8, 7, 8])\n",
    "\n",
    "# Calculate the 75th percentile\n",
    "percentile_75 = np.percentile(feedback_ratings, 75)\n",
    "\n",
    "# Print the 75th percentile\n",
    "print(\"75th percentile of feedback ratings:\", percentile_75)\n"
   ]
  },
  {
   "cell_type": "markdown",
   "id": "1970d7f6",
   "metadata": {},
   "source": [
    "\n",
    "11.\n",
    "Scenario: A quality control department wants to test the weight consistency of a product. The weights of a sample of products are as follows:\n",
    "    [10.2, 9.8, 10.0, 10.5, 10.3, 10.1]\n",
    "    \n",
    "Perform a hypothesis test to determine if the mean weight differs significantly from 10 grams.\n",
    "\n"
   ]
  },
  {
   "cell_type": "code",
   "execution_count": 58,
   "id": "b4af0fb6",
   "metadata": {},
   "outputs": [
    {
     "name": "stdout",
     "output_type": "stream",
     "text": [
      "T-Test Results:\n",
      "T-Statistic: 1.5126584522688367\n",
      "p-value: 0.19077595151110102\n"
     ]
    }
   ],
   "source": [
    "\n",
    "from scipy.stats import ttest_1samp\n",
    "\n",
    "# Weights of the sample products\n",
    "weights = np.array([10.2, 9.8, 10.0, 10.5, 10.3, 10.1])\n",
    "\n",
    "# Perform one-sample t-test\n",
    "t_statistic, p_value = ttest_1samp(weights, 10)\n",
    "\n",
    "# Print the t-test results\n",
    "print(\"T-Test Results:\")\n",
    "print(\"T-Statistic:\", t_statistic)\n",
    "print(\"p-value:\", p_value)\n"
   ]
  },
  {
   "cell_type": "markdown",
   "id": "6c4a315d",
   "metadata": {},
   "source": [
    "12.\n",
    "Scenario: A company wants to analyze the click-through rates of two different website designs. The number of clicks for each design is as follows:\n",
    "Design A: [100, 120, 110, 90, 95]\n",
    "Design B: [80, 85, 90, 95, 100]\n",
    "\n",
    "Perform a chi-square test to determine if there is a significant difference in the click-through rates between the two designs.\n"
   ]
  },
  {
   "cell_type": "code",
   "execution_count": 59,
   "id": "0524b213",
   "metadata": {},
   "outputs": [
    {
     "name": "stdout",
     "output_type": "stream",
     "text": [
      "Chi-Square Test Results:\n",
      "Chi2 Statistic: 6.110658166925435\n",
      "p-value: 0.19103526314060293\n"
     ]
    }
   ],
   "source": [
    "\n",
    "from scipy.stats import chi2_contingency\n",
    "\n",
    "# Click-through rates for Design A and Design B\n",
    "design_a = np.array([100, 120, 110, 90, 95])\n",
    "design_b = np.array([80, 85, 90, 95, 100])\n",
    "\n",
    "# Perform chi-square test\n",
    "chi2_statistic, p_value, _, _ = chi2_contingency([design_a, design_b])\n",
    "\n",
    "# Print the chi-square test results\n",
    "print(\"Chi-Square Test Results:\")\n",
    "print(\"Chi2 Statistic:\", chi2_statistic)\n",
    "print(\"p-value:\", p_value)\n"
   ]
  },
  {
   "cell_type": "markdown",
   "id": "fc4942ee",
   "metadata": {},
   "source": [
    "13.\n",
    "Scenario: A survey is conducted to measure customer satisfaction with a product on a scale of 1 to 10. The data collected is as follows:\n",
    "[7, 9, 6, 8, 10, 7, 8, 9, 7, 8]\n",
    "Calculate the 95% confidence interval for the population mean satisfaction score.\n"
   ]
  },
  {
   "cell_type": "code",
   "execution_count": 34,
   "id": "a3bb4701",
   "metadata": {},
   "outputs": [
    {
     "name": "stdout",
     "output_type": "stream",
     "text": [
      "95% Confidence Interval for Population Mean Satisfaction Score:\n",
      "(7.043561120599888, 8.756438879400113)\n"
     ]
    }
   ],
   "source": [
    "\n",
    "from scipy import stats\n",
    "\n",
    "# Satisfaction scores data\n",
    "satisfaction_scores = np.array([7, 9, 6, 8, 10, 7, 8, 9, 7, 8])\n",
    "\n",
    "# Calculate the confidence interval\n",
    "confidence_interval = stats.t.interval(0.95, len(satisfaction_scores)-1, loc=np.mean(satisfaction_scores), scale=stats.sem(satisfaction_scores))\n",
    "\n",
    "# Print the confidence interval\n",
    "print(\"95% Confidence Interval for Population Mean Satisfaction Score:\")\n",
    "print(confidence_interval)\n",
    "\n"
   ]
  },
  {
   "cell_type": "markdown",
   "id": "422c1057",
   "metadata": {},
   "source": [
    "14. \n",
    "Scenario: A company wants to analyze the effect of temperature on product performance. \n",
    "The data collected is as follows:\n",
    "Temperature (in degrees Celsius): [20, 22, 23, 19, 21]\n",
    "Performance (on a scale of 1 to 10): [8, 7, 9, 6, 8]\n",
    "Perform a simple linear regression to predict performance based on temperature.\n",
    "\n"
   ]
  },
  {
   "cell_type": "code",
   "execution_count": 35,
   "id": "216a286f",
   "metadata": {},
   "outputs": [
    {
     "name": "stdout",
     "output_type": "stream",
     "text": [
      "Predicted performance for temperature 21 degrees Celsius: 7.6\n",
      "Predicted performance for temperature 24 degrees Celsius: 9.099999999999998\n"
     ]
    }
   ],
   "source": [
    "\n",
    "from sklearn.linear_model import LinearRegression\n",
    "\n",
    "# Temperature data\n",
    "temperature = np.array([20, 22, 23, 19, 21]).reshape(-1, 1)  # Reshape to a column vector\n",
    "\n",
    "# Performance data\n",
    "performance = np.array([8, 7, 9, 6, 8])\n",
    "\n",
    "# Create a linear regression model\n",
    "model = LinearRegression()\n",
    "\n",
    "# Fit the model to the data\n",
    "model.fit(temperature, performance)\n",
    "\n",
    "# Predict performance for new temperature values\n",
    "new_temperature = np.array([[21], [24]])  # Example new temperature values for prediction\n",
    "predicted_performance = model.predict(new_temperature)\n",
    "\n",
    "# Print the predicted performance\n",
    "for i in range(len(new_temperature)):\n",
    "    print(f\"Predicted performance for temperature {new_temperature[i][0]} degrees Celsius: {predicted_performance[i]}\")\n",
    "\n"
   ]
  },
  {
   "cell_type": "markdown",
   "id": "1bb51bcc",
   "metadata": {},
   "source": [
    "15. \n",
    "Scenario: A study is conducted to compare the preferences of two groups of participants. \n",
    "The preferences are measured on a Likert scale from 1 to 5. \n",
    "The data collected is as follows:\n",
    "    Group A: [4, 3, 5, 2, 4]\n",
    "    Group B: [3, 2, 4, 3, 3]\n",
    "    Perform a Mann-Whitney U test to determine if there is a significant difference in the median preferences between the two groups.\n"
   ]
  },
  {
   "cell_type": "code",
   "execution_count": 36,
   "id": "cae97920",
   "metadata": {},
   "outputs": [
    {
     "name": "stdout",
     "output_type": "stream",
     "text": [
      "Mann-Whitney U Test Results:\n",
      "U Statistic: 17.0\n",
      "p-value: 0.380836480306712\n"
     ]
    }
   ],
   "source": [
    "\n",
    "from scipy.stats import mannwhitneyu\n",
    "\n",
    "# Preferences for Group A and Group B\n",
    "group_a = np.array([4, 3, 5, 2, 4])\n",
    "group_b = np.array([3, 2, 4, 3, 3])\n",
    "\n",
    "# Perform Mann-Whitney U test\n",
    "statistic, p_value = mannwhitneyu(group_a, group_b, alternative='two-sided')\n",
    "\n",
    "# Print the Mann-Whitney U test results\n",
    "print(\"Mann-Whitney U Test Results:\")\n",
    "print(\"U Statistic:\", statistic)\n",
    "print(\"p-value:\", p_value)\n"
   ]
  },
  {
   "cell_type": "markdown",
   "id": "d1b432a3",
   "metadata": {},
   "source": [
    "16.\n",
    "Scenario: A company wants to analyze the distribution of customer ages. \n",
    "\n",
    "The data collected is as follows:\n",
    "    [25, 30, 35, 40, 45, 50, 55, 60, 65, 70]\n",
    "    \n",
    "Calculate the interquartile range (IQR) of the ages.\n"
   ]
  },
  {
   "cell_type": "code",
   "execution_count": 37,
   "id": "15edae18",
   "metadata": {},
   "outputs": [
    {
     "name": "stdout",
     "output_type": "stream",
     "text": [
      "Interquartile Range (IQR) of Customer Ages: 22.5\n"
     ]
    }
   ],
   "source": [
    "\n",
    "\n",
    "# Customer ages data\n",
    "ages = np.array([25, 30, 35, 40, 45, 50, 55, 60, 65, 70])\n",
    "\n",
    "# Calculate the interquartile range (IQR)\n",
    "q1 = np.percentile(ages, 25)\n",
    "q3 = np.percentile(ages, 75)\n",
    "iqr = q3 - q1\n",
    "\n",
    "# Print the interquartile range\n",
    "print(\"Interquartile Range (IQR) of Customer Ages:\", iqr)\n"
   ]
  },
  {
   "cell_type": "markdown",
   "id": "d26fd012",
   "metadata": {},
   "source": [
    "17. \n",
    "Scenario: A study is conducted to compare the performance of three different machine learning algorithms. \n",
    "\n",
    "The accuracy scores for each algorithm are as follows:\n",
    "    Algorithm A: [0.85, 0.80, 0.82, 0.87, 0.83]\n",
    "    Algorithm B: [0.78, 0.82, 0.84, 0.80, 0.79]\n",
    "    Algorithm C: [0.90, 0.88, 0.89, 0.86, 0.87]\n",
    "    \n",
    "Perform a Kruskal-Wallis test to determine if there is a significant difference in the median accuracy scores between the algorithms.\n",
    "\n"
   ]
  },
  {
   "cell_type": "code",
   "execution_count": 38,
   "id": "dd89784f",
   "metadata": {},
   "outputs": [
    {
     "name": "stdout",
     "output_type": "stream",
     "text": [
      "Kruskal-Wallis Test Results:\n",
      "Kruskal-Wallis Statistic: 9.696947935368053\n",
      "p-value: 0.007840333026249539\n"
     ]
    }
   ],
   "source": [
    "\n",
    "from scipy.stats import kruskal\n",
    "\n",
    "# Accuracy scores for Algorithm A, Algorithm B, and Algorithm C\n",
    "algorithm_a = np.array([0.85, 0.80, 0.82, 0.87, 0.83])\n",
    "algorithm_b = np.array([0.78, 0.82, 0.84, 0.80, 0.79])\n",
    "algorithm_c = np.array([0.90, 0.88, 0.89, 0.86, 0.87])\n",
    "\n",
    "# Perform Kruskal-Wallis test\n",
    "statistic, p_value = kruskal(algorithm_a, algorithm_b, algorithm_c)\n",
    "\n",
    "# Print the Kruskal-Wallis test results\n",
    "print(\"Kruskal-Wallis Test Results:\")\n",
    "print(\"Kruskal-Wallis Statistic:\", statistic)\n",
    "print(\"p-value:\", p_value)\n",
    "\n"
   ]
  },
  {
   "cell_type": "markdown",
   "id": "a503ebfe",
   "metadata": {},
   "source": [
    "18. \n",
    "Scenario: A company wants to analyze the effect of price on sales. \n",
    "\n",
    "The data collected is as follows:\n",
    "    Price (in dollars): [10, 15, 12, 8, 14]\n",
    "    Sales: [100, 80, 90, 110, 95]\n",
    "    \n",
    "Perform a simple linear regression to predict sales based on price\n"
   ]
  },
  {
   "cell_type": "code",
   "execution_count": 39,
   "id": "2442fb70",
   "metadata": {},
   "outputs": [
    {
     "name": "stdout",
     "output_type": "stream",
     "text": [
      "Predicted sales for price $13: 90.79268292682926\n",
      "Predicted sales for price $11: 97.80487804878048\n"
     ]
    }
   ],
   "source": [
    "\n",
    "# Price data\n",
    "price = np.array([10, 15, 12, 8, 14]).reshape(-1, 1)  # Reshape to a column vector\n",
    "\n",
    "# Sales data\n",
    "sales = np.array([100, 80, 90, 110, 95])\n",
    "\n",
    "# Create a linear regression model\n",
    "model = LinearRegression()\n",
    "\n",
    "# Fit the model to the data\n",
    "model.fit(price, sales)\n",
    "\n",
    "# Predict sales for new price values\n",
    "new_price = np.array([[13], [11]])  # Example new price values for prediction\n",
    "predicted_sales = model.predict(new_price)\n",
    "\n",
    "# Print the predicted sales\n",
    "for i in range(len(new_price)):\n",
    "    print(f\"Predicted sales for price ${new_price[i][0]}: {predicted_sales[i]}\")\n"
   ]
  },
  {
   "cell_type": "markdown",
   "id": "384d1eaa",
   "metadata": {},
   "source": [
    "19. \n",
    "Scenario: A survey is conducted to measure the satisfaction levels of customers with a new product.\n",
    "\n",
    "The data collected is as follows:\n",
    "    [7, 8, 9, 6, 8, 7, 9, 7, 8, 7]\n",
    "    \n",
    "Calculate the standard error of the mean satisfaction score.\n"
   ]
  },
  {
   "cell_type": "code",
   "execution_count": 40,
   "id": "3fa6c80b",
   "metadata": {},
   "outputs": [
    {
     "name": "stdout",
     "output_type": "stream",
     "text": [
      "Standard Error of the Mean Satisfaction Score: 0.28982753492378877\n"
     ]
    }
   ],
   "source": [
    "\n",
    "\n",
    "# Satisfaction scores data\n",
    "satisfaction_scores = np.array([7, 8, 9, 6, 8, 7, 9, 7, 8, 7])\n",
    "\n",
    "# Calculate the standard error of the mean\n",
    "standard_error = np.std(satisfaction_scores) / np.sqrt(len(satisfaction_scores))\n",
    "\n",
    "# Print the standard error of the mean\n",
    "print(\"Standard Error of the Mean Satisfaction Score:\", standard_error)\n"
   ]
  },
  {
   "cell_type": "markdown",
   "id": "58942b41",
   "metadata": {},
   "source": [
    "20. \n",
    "Scenario: A company wants to analyze the relationship between advertising expenditure and sales.\n",
    "\n",
    "The data collected is as follows:\n",
    "    Advertising Expenditure (in thousands): [10, 15, 12, 8, 14]\n",
    "    Sales (in thousands): [25, 30, 28, 20, 26]\n",
    "    \n",
    "Perform a multiple regression analysis to predict sales based on advertising expenditure.\n",
    "\n"
   ]
  },
  {
   "cell_type": "code",
   "execution_count": 41,
   "id": "a69c2095",
   "metadata": {},
   "outputs": [
    {
     "name": "stdout",
     "output_type": "stream",
     "text": [
      "Predicted sales for advertising expenditure $11k: 24.878048780487802k\n",
      "Predicted sales for advertising expenditure $13k: 27.182926829268293k\n"
     ]
    }
   ],
   "source": [
    "\n",
    "\n",
    "# Advertising expenditure data\n",
    "advertising_expenditure = np.array([10, 15, 12, 8, 14]).reshape(-1, 1)  # Reshape to a column vector\n",
    "\n",
    "# Sales data\n",
    "sales = np.array([25, 30, 28, 20, 26])\n",
    "\n",
    "# Create a multiple regression model\n",
    "model = LinearRegression()\n",
    "\n",
    "# Fit the model to the data\n",
    "model.fit(advertising_expenditure, sales)\n",
    "\n",
    "# Predict sales for new advertising expenditure values\n",
    "new_expenditure = np.array([[11], [13]])  # Example new advertising expenditure values for prediction\n",
    "predicted_sales = model.predict(new_expenditure)\n",
    "\n",
    "# Print the predicted sales\n",
    "for i in range(len(new_expenditure)):\n",
    "    print(f\"Predicted sales for advertising expenditure ${new_expenditure[i][0]}k: {predicted_sales[i]}k\")\n"
   ]
  },
  {
   "cell_type": "code",
   "execution_count": null,
   "id": "9d80033a",
   "metadata": {},
   "outputs": [],
   "source": []
  }
 ],
 "metadata": {
  "kernelspec": {
   "display_name": "Python 3 (ipykernel)",
   "language": "python",
   "name": "python3"
  },
  "language_info": {
   "codemirror_mode": {
    "name": "ipython",
    "version": 3
   },
   "file_extension": ".py",
   "mimetype": "text/x-python",
   "name": "python",
   "nbconvert_exporter": "python",
   "pygments_lexer": "ipython3",
   "version": "3.10.9"
  }
 },
 "nbformat": 4,
 "nbformat_minor": 5
}
